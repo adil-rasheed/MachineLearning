{
 "cells": [
  {
   "cell_type": "code",
   "execution_count": 126,
   "metadata": {
    "collapsed": true
   },
   "outputs": [],
   "source": [
    "import numpy as np\n",
    "import scipy.io as sio\n",
    "import matplotlib.pyplot as plt\n",
    "from sklearn import linear_model\n",
    "import tensorflow as tf"
   ]
  },
  {
   "cell_type": "code",
   "execution_count": 127,
   "metadata": {
    "collapsed": true
   },
   "outputs": [],
   "source": [
    "def featureNormalize(X):\n",
    "    X_norm = X\n",
    "    mu    = np.zeros((1, X.shape[1]))\n",
    "    sigma = np.zeros((1, X.shape[1]))\n",
    "    for i in range(X.shape[1]):\n",
    "        mu[:,i] = np.mean(X[:,i])\n",
    "        sigma[:,i] = np.std(X[:,i])\n",
    "        X_norm[:,i] = (X[:,i] - float(mu[:,i]))/float(sigma[:,i])\n",
    "    return X_norm, mu, sigma"
   ]
  },
  {
   "cell_type": "code",
   "execution_count": 128,
   "metadata": {
    "collapsed": true
   },
   "outputs": [],
   "source": [
    "# Compute the loss\n",
    "def computeLoss(X,y,theta):\n",
    "  m=len(y)\n",
    "  Loss=0.0;\n",
    "  Loss=1.0/2.0/m*np.sum((X.dot(theta)-y)**2);\n",
    "  return Loss;"
   ]
  },
  {
   "cell_type": "code",
   "execution_count": 129,
   "metadata": {
    "collapsed": true
   },
   "outputs": [],
   "source": [
    "def gradientDescent(X, y, theta, alpha, num_iters):\n",
    "    m = len(y) \n",
    "    Loss_history = np.zeros((num_iters, 1))\n",
    "    for i in range(num_iters):\n",
    "        theta = theta - alpha*(1.0/m) * np.transpose(X).dot(X.dot(theta) - np.transpose([y]))    \n",
    "        Loss_history[i] = computeLoss(X, y, theta)\n",
    "    return theta, Loss_history"
   ]
  },
  {
   "cell_type": "code",
   "execution_count": 130,
   "metadata": {
    "collapsed": true
   },
   "outputs": [],
   "source": [
    "def normalEqn(X, y):  \n",
    "    theta = np.zeros((X.shape[1], 1))\n",
    "    theta = np.linalg.pinv(np.transpose(X).dot(X)).dot(np.transpose(X).dot(y))\n",
    "    return theta"
   ]
  },
  {
   "cell_type": "code",
   "execution_count": 131,
   "metadata": {
    "collapsed": true
   },
   "outputs": [],
   "source": [
    "def SolveGradientDescent(X,alpha, num_iters):\n",
    "    theta = np.zeros((3, 1)) \n",
    "    theta, Loss_history = gradientDescent(X_padded, y, theta, alpha, num_iters)\n",
    "    plt.plot(range(Loss_history.size), Loss_history, \"-b\", linewidth=2 )\n",
    "    plt.xlabel('Number of iterations')\n",
    "    plt.ylabel('Loss')\n",
    "    plt.show(block=False)\n",
    "    theta.shape\n",
    "    return theta"
   ]
  },
  {
   "cell_type": "code",
   "execution_count": 132,
   "metadata": {
    "collapsed": true
   },
   "outputs": [],
   "source": [
    "def SK_solve(X,y):\n",
    "    lr = linear_model.LinearRegression()\n",
    "    lr.fit(X,y)\n",
    "    return lr"
   ]
  },
  {
   "cell_type": "code",
   "execution_count": 175,
   "metadata": {},
   "outputs": [],
   "source": [
    "def TF_solve(X,y,learning_rate,training_epochs):\n",
    "    mx,nx = X.shape\n",
    "    my,ny = y.shape\n",
    "    x_ph = tf.placeholder(tf.float32, shape = [None, nx])\n",
    "    y_ph = tf.placeholder(tf.float32, shape = [None, ny])\n",
    "\n",
    "    W = tf.Variable(tf.random_normal([nx,1]), name=\"Weight\")\n",
    "    b = tf.Variable(tf.random_normal([ny,1]), name=\"Intercept\")\n",
    "\n",
    "    hypothesis = tf.matmul(x_ph, W) + b\n",
    "    init = tf.global_variables_initializer()\n",
    "    Loss = tf.reduce_mean(tf.square(y_ph - hypothesis))\n",
    "    optimizer = tf.train.GradientDescentOptimizer(learning_rate= learning_rate)\n",
    "    train = optimizer.minimize(Loss)\n",
    "    sess = tf.Session()\n",
    "    # Initialize all the variables\n",
    "    sess.run(init)\n",
    "    Loss_history = np.zeros((training_epochs, 1))\n",
    "    counter=0\n",
    "    for epochs in range(training_epochs):\n",
    "        cost_val, hy_val, W_val, b_val, _ = sess.run([Loss, hypothesis, W, b, train],feed_dict = {x_ph:X_norm, y_ph:y})\n",
    "        Loss_history[counter] = cost_val\n",
    "        counter=counter+1\n",
    "    plt.plot(range(Loss_history.size), Loss_history, \"-b\", linewidth=2 )\n",
    "    plt.xlabel('Number of iterations')\n",
    "    plt.ylabel('Loss')\n",
    "    plt.show(block=False)\n",
    "    return W_val,b_val"
   ]
  },
  {
   "cell_type": "code",
   "execution_count": 168,
   "metadata": {
    "collapsed": true
   },
   "outputs": [],
   "source": [
    "data = np.loadtxt('data.txt', delimiter=\",\")\n",
    "X = data[:,:2]\n",
    "y = data[:,2]\n",
    "m = len(y)\n",
    "X_norm, mu, sigma = featureNormalize(X)\n",
    "X_padded = np.column_stack((np.ones((m,1)), X_norm))\n",
    "house_norm_padded = np.array([1, 1650, 3])"
   ]
  },
  {
   "cell_type": "code",
   "execution_count": 169,
   "metadata": {},
   "outputs": [
    {
     "data": {
      "image/png": "[encoded data removed]",
      "text/plain": [
       "<matplotlib.figure.Figure at 0xec00048>"
      ]
     },
     "metadata": {},
     "output_type": "display_data"
    },
    {
     "name": "stdout",
     "output_type": "stream",
     "text": [
      "Theta computed from gradient descent:  [[ 334302.06399328]\n",
      " [  99411.44947359]\n",
      " [   3267.01285407]]\n",
      "Predicted price of a 1650 sq-ft, 3 br house (using gradient descent): [  1.64372995e+08]\n"
     ]
    }
   ],
   "source": [
    "#Solve using Gradient Descent\n",
    "theta_GD=SolveGradientDescent(X=X_padded,alpha=0.01,num_iters=400)\n",
    "# Display gradient descent's result\n",
    "print('Theta computed from gradient descent: ',theta_GD)\n",
    "price_GD = np.array(house_norm_padded).dot(theta)\n",
    "print(\"Predicted price of a 1650 sq-ft, 3 br house (using gradient descent):\", price_GD)\n"
   ]
  },
  {
   "cell_type": "code",
   "execution_count": 170,
   "metadata": {},
   "outputs": [
    {
     "name": "stdout",
     "output_type": "stream",
     "text": [
      "Theta calculated by Normal Equation  [ 340412.65957447  109447.79646964   -6578.35485416]\n",
      "Predicted price of a 1650 sq-ft, 3 br house (using normal equation): 180909541.77\n"
     ]
    }
   ],
   "source": [
    "#Solve using normal equation\n",
    "theta_Normal = normalEqn(X_padded, y)\n",
    "print(\"Theta calculated by Normal Equation \",theta_Normal)\n",
    "price_Normal = np.array(house_norm_padded).dot(theta_Normal)\n",
    "print(\"Predicted price of a 1650 sq-ft, 3 br house (using normal equation):\", price_Normal)"
   ]
  },
  {
   "cell_type": "code",
   "execution_count": 171,
   "metadata": {},
   "outputs": [
    {
     "name": "stdout",
     "output_type": "stream",
     "text": [
      "Theta calculated by SK-learn regression  [      0.          109447.79646964   -6578.35485416]\n",
      "Predicted price  [  1.80909542e+08]\n"
     ]
    }
   ],
   "source": [
    "#Solve using SK-learn\n",
    "lr=SK_solve(X_padded,y)\n",
    "print(\"Theta calculated by SK-learn regression \",lr.coef_)\n",
    "print(\"Predicted price \",lr.predict(house_norm_padded.reshape(1,-1)))"
   ]
  },
  {
   "cell_type": "code",
   "execution_count": 176,
   "metadata": {},
   "outputs": [
    {
     "data": {
      "image/png": "[encoded data removed]",
      "text/plain": [
       "<matplotlib.figure.Figure at 0xfddae10>"
      ]
     },
     "metadata": {},
     "output_type": "display_data"
    },
    {
     "name": "stdout",
     "output_type": "stream",
     "text": [
      "Theta calculated by tensorflow regression  [[ 340412.59375]] [[ 109442.        ]\n",
      " [  -6572.56298828]]\n",
      "Predicted price  [[  1.80899995e+08]]\n"
     ]
    }
   ],
   "source": [
    "theta_TF,bias_TF=TF_solve(X_norm,y.reshape(-1,1),0.1,100)\n",
    "print(\"Theta calculated by tensorflow regression \",bias_TF,theta_TF)\n",
    "house_norm_padded = np.array([1650, 3])\n",
    "print(\"Predicted price \",np.array(house_norm_padded).dot(theta_TF)+bias_TF)"
   ]
  },
  {
   "cell_type": "code",
   "execution_count": null,
   "metadata": {},
   "outputs": [],
   "source": []
  },
  {
   "cell_type": "code",
   "execution_count": 158,
   "metadata": {},
   "outputs": [
    {
     "data": {
      "text/plain": [
       "(3,)"
      ]
     },
     "execution_count": 158,
     "metadata": {},
     "output_type": "execute_result"
    }
   ],
   "source": []
  },
  {
   "cell_type": "code",
   "execution_count": null,
   "metadata": {
    "collapsed": true
   },
   "outputs": [],
   "source": []
  }
 ],
 "metadata": {
  "kernelspec": {
   "display_name": "Python 3",
   "language": "python",
   "name": "python3"
  },
  "language_info": {
   "codemirror_mode": {
    "name": "ipython",
    "version": 3
   },
   "file_extension": ".py",
   "mimetype": "text/x-python",
   "name": "python",
   "nbconvert_exporter": "python",
   "pygments_lexer": "ipython3",
   "version": "3.5.3"
  }
 },
 "nbformat": 4,
 "nbformat_minor": 2
}
