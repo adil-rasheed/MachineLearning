{
 "cells": [
  {
   "cell_type": "markdown",
   "metadata": {},
   "source": [
    "Regression using numpy, sklearn and tensorflow. "
   ]
  },
  {
   "cell_type": "code",
   "execution_count": 40,
   "metadata": {
    "collapsed": true
   },
   "outputs": [],
   "source": [
    "import numpy as np\n",
    "import scipy.io as sio\n",
    "import matplotlib.pyplot as plt\n",
    "from sklearn import datasets,linear_model\n",
    "import tensorflow as tf"
   ]
  },
  {
   "cell_type": "code",
   "execution_count": 41,
   "metadata": {
    "collapsed": true
   },
   "outputs": [],
   "source": [
    "# Normalize features\n",
    "def featureNormalize(X):\n",
    "    X_norm = X\n",
    "    mu    = np.zeros((1, X.shape[1]))\n",
    "    sigma = np.zeros((1, X.shape[1]))\n",
    "    for i in range(X.shape[1]):\n",
    "        mu[:,i] = np.mean(X[:,i])\n",
    "        sigma[:,i] = np.std(X[:,i])\n",
    "        X_norm[:,i] = (X[:,i] - float(mu[:,i]))/float(sigma[:,i])\n",
    "    return X_norm, mu, sigma"
   ]
  },
  {
   "cell_type": "code",
   "execution_count": 42,
   "metadata": {
    "collapsed": true
   },
   "outputs": [],
   "source": [
    "# Compute the loss\n",
    "def computeLoss(X,y,theta): \n",
    "  m=len(y)\n",
    "  Loss=0.0;\n",
    "  Loss=1.0/2.0/m*np.sum((X.dot(theta)-y)**2);\n",
    "  return Loss;"
   ]
  },
  {
   "cell_type": "code",
   "execution_count": 43,
   "metadata": {},
   "outputs": [],
   "source": [
    "# Solves using Gradient Descent\n",
    "def gradientDescent(X, y, alpha, num_iters):\n",
    "    m,n = X.shape\n",
    "    theta = np.zeros((X.shape[1],1))\n",
    "    Loss_history = np.zeros((num_iters, 1))\n",
    "    for i in range(num_iters):\n",
    "        theta = theta - alpha*(1.0/m) * np.transpose(X).dot(X.dot(theta) - np.transpose([y]))    \n",
    "        Loss_history[i] = computeLoss(X, y, theta)\n",
    "    return theta, Loss_history"
   ]
  },
  {
   "cell_type": "code",
   "execution_count": 44,
   "metadata": {
    "collapsed": true
   },
   "outputs": [],
   "source": [
    "# Solve using direct method\n",
    "def normalEqn(X, y):  \n",
    "    theta = np.zeros((X.shape[1], 1))\n",
    "    theta = np.linalg.pinv(np.transpose(X).dot(X)).dot(np.transpose(X).dot(y))\n",
    "    return theta"
   ]
  },
  {
   "cell_type": "code",
   "execution_count": 45,
   "metadata": {
    "collapsed": true
   },
   "outputs": [],
   "source": [
    "def SolveGradientDescent(X,y,alpha, num_iters):\n",
    "    m,n=X.shape\n",
    "    theta, Loss_history = gradientDescent(X, y, alpha, num_iters)\n",
    "    plt.plot(range(Loss_history.size), Loss_history, \"-b\", linewidth=2 )\n",
    "    plt.xlabel('Number of iterations')\n",
    "    plt.ylabel('Loss')\n",
    "    plt.show(block=False)\n",
    "    theta.shape\n",
    "    return theta"
   ]
  },
  {
   "cell_type": "code",
   "execution_count": 46,
   "metadata": {
    "collapsed": true
   },
   "outputs": [],
   "source": [
    "def SK_solve(X,y):\n",
    "    lr = linear_model.LinearRegression()\n",
    "    lr.fit(X,y)\n",
    "    return lr"
   ]
  },
  {
   "cell_type": "code",
   "execution_count": 47,
   "metadata": {},
   "outputs": [],
   "source": [
    "def TF_solve(X,y,learning_rate,training_epochs):\n",
    "    mx,nx = X.shape\n",
    "    my,ny = y.shape\n",
    "    x_ph = tf.placeholder(tf.float32, shape = [None, nx])\n",
    "    y_ph = tf.placeholder(tf.float32, shape = [None, ny])\n",
    "\n",
    "    W = tf.Variable(tf.random_normal([nx,1]), name=\"Weight\")\n",
    "    b = tf.Variable(tf.random_normal([ny,1]), name=\"Intercept\")\n",
    "\n",
    "    hypothesis = tf.matmul(x_ph, W) + b\n",
    "    init = tf.global_variables_initializer()\n",
    "    Loss = tf.reduce_mean(tf.square(y_ph - hypothesis))\n",
    "    optimizer = tf.train.GradientDescentOptimizer(learning_rate= learning_rate)\n",
    "    train = optimizer.minimize(Loss)\n",
    "    sess = tf.Session()\n",
    "    # Initialize all the variables\n",
    "    sess.run(init)\n",
    "    Loss_history = np.zeros((training_epochs, 1))\n",
    "    counter=0\n",
    "    for epochs in range(training_epochs):\n",
    "        cost_val, hy_val, W_val, b_val, _ = sess.run([Loss, hypothesis, W, b, train],feed_dict = {x_ph:X, y_ph:y})\n",
    "        Loss_history[counter] = cost_val\n",
    "        counter=counter+1\n",
    "    plt.plot(range(Loss_history.size), Loss_history, \"-b\", linewidth=2 )\n",
    "    plt.xlabel('Number of iterations')\n",
    "    plt.ylabel('Loss')\n",
    "    plt.show(block=False)\n",
    "    return W_val,b_val"
   ]
  },
  {
   "cell_type": "markdown",
   "metadata": {},
   "source": [
    "Try out the code on a simple data file \"data.txt\""
   ]
  },
  {
   "cell_type": "code",
   "execution_count": 48,
   "metadata": {
    "collapsed": true
   },
   "outputs": [],
   "source": [
    "data = np.loadtxt('data.txt', delimiter=\",\")\n",
    "X = data[:,:2]\n",
    "y = data[:,2]\n",
    "m = len(y)\n",
    "X_norm, mu, sigma = featureNormalize(X)\n",
    "X_padded = np.column_stack((np.ones((m,1)), X_norm))\n",
    "house_norm_padded = np.array([1, 1650, 3])"
   ]
  },
  {
   "cell_type": "markdown",
   "metadata": {},
   "source": [
    "Solve using Gradient Descent"
   ]
  },
  {
   "cell_type": "code",
   "execution_count": 49,
   "metadata": {},
   "outputs": [
    {
     "data": {
      "image/png": "[encoded data removed]",
      "text/plain": [
       "<matplotlib.figure.Figure at 0xdee1860>"
      ]
     },
     "metadata": {},
     "output_type": "display_data"
    },
    {
     "name": "stdout",
     "output_type": "stream",
     "text": [
      "Theta computed from gradient descent:  [[ 340412.65957447]\n",
      " [ 109447.79520343]\n",
      " [  -6578.35358795]]\n",
      "Predicted price of a 1650 sq-ft, 3 br house (using gradient descent): [  1.80909540e+08]\n"
     ]
    }
   ],
   "source": [
    "\n",
    "theta_GD=SolveGradientDescent(X=X_padded,y=y,alpha=0.01,num_iters=4000)\n",
    "#Display gradient descent's result\n",
    "print('Theta computed from gradient descent: ',theta_GD)\n",
    "price_GD = np.array(house_norm_padded).dot(theta_GD)\n",
    "print(\"Predicted price of a 1650 sq-ft, 3 br house (using gradient descent):\", price_GD)\n"
   ]
  },
  {
   "cell_type": "markdown",
   "metadata": {},
   "source": [
    "Solve using normal equation"
   ]
  },
  {
   "cell_type": "code",
   "execution_count": 50,
   "metadata": {},
   "outputs": [
    {
     "name": "stdout",
     "output_type": "stream",
     "text": [
      "Theta calculated by Normal Equation  [ 340412.65957447  109447.79646964   -6578.35485416]\n",
      "Predicted price of a 1650 sq-ft, 3 br house (using normal equation): 180909541.77\n"
     ]
    }
   ],
   "source": [
    "theta_Normal = normalEqn(X_padded, y)\n",
    "print(\"Theta calculated by Normal Equation \",theta_Normal)\n",
    "price_Normal = np.array(house_norm_padded).dot(theta_Normal)\n",
    "print(\"Predicted price of a 1650 sq-ft, 3 br house (using normal equation):\", price_Normal)"
   ]
  },
  {
   "cell_type": "markdown",
   "metadata": {},
   "source": [
    "Solve using SK-learn"
   ]
  },
  {
   "cell_type": "code",
   "execution_count": 51,
   "metadata": {},
   "outputs": [
    {
     "name": "stdout",
     "output_type": "stream",
     "text": [
      "Theta calculated by SK-learn regression  [      0.          109447.79646964   -6578.35485416]\n",
      "Predicted price  [  1.80909542e+08]\n"
     ]
    }
   ],
   "source": [
    "lr=SK_solve(X_padded,y)\n",
    "print(\"Theta calculated by SK-learn regression \",lr.coef_)\n",
    "print(\"Predicted price \",lr.predict(house_norm_padded.reshape(1,-1)))"
   ]
  },
  {
   "cell_type": "markdown",
   "metadata": {},
   "source": [
    "Solve using Tensorflow"
   ]
  },
  {
   "cell_type": "code",
   "execution_count": 52,
   "metadata": {},
   "outputs": [
    {
     "data": {
      "image/png": "[encoded data removed]",
      "text/plain": [
       "<matplotlib.figure.Figure at 0xcb1eb00>"
      ]
     },
     "metadata": {},
     "output_type": "display_data"
    },
    {
     "name": "stdout",
     "output_type": "stream",
     "text": [
      "Theta calculated by tensorflow regression  [[ 340412.59375]] [[ 109442.        ]\n",
      " [  -6572.56298828]]\n",
      "Predicted price  [[  1.80899995e+08]]\n"
     ]
    }
   ],
   "source": [
    "theta_TF,bias_TF=TF_solve(X_norm,y.reshape(-1,1),0.1,100)\n",
    "print(\"Theta calculated by tensorflow regression \",bias_TF,theta_TF)\n",
    "house_norm_padded = np.array([1650, 3])\n",
    "print(\"Predicted price \",np.array(house_norm_padded).dot(theta_TF)+bias_TF)"
   ]
  },
  {
   "cell_type": "markdown",
   "metadata": {},
   "source": [
    "Play around with the realistic diabetes database from SK-learn"
   ]
  },
  {
   "cell_type": "code",
   "execution_count": 83,
   "metadata": {},
   "outputs": [
    {
     "name": "stdout",
     "output_type": "stream",
     "text": [
      "(442, 10)\n"
     ]
    }
   ],
   "source": [
    "diabetes = datasets.load_diabetes()\n",
    "# Use only one feature\n",
    "#diabetes_X = diabetes.data[:, np.newaxis, 2]\n",
    "diabetes_X = diabetes.data\n",
    "# Split the data into training/testing sets\n",
    "diabetes_X_train = diabetes_X[:-20]\n",
    "diabetes_X_test = diabetes_X[-20:]\n",
    "\n",
    "# Split the targets into training/testing sets\n",
    "diabetes_y_train = diabetes.target[:-20]#.reshape(-1,1)\n",
    "diabetes_y_test = diabetes.target[-20:]#.reshape(-1,1)\n",
    "X=diabetes_X_train\n",
    "y=diabetes_y_train\n",
    "X_test=diabetes_X_test\n",
    "y_test=diabetes_y_test"
   ]
  },
  {
   "cell_type": "code",
   "execution_count": 85,
   "metadata": {},
   "outputs": [
    {
     "name": "stdout",
     "output_type": "stream",
     "text": [
      "Coefficients: \n",
      " [  3.03499549e-01  -2.37639315e+02   5.10530605e+02   3.27736980e+02\n",
      "  -8.14131709e+02   4.92814588e+02   1.02848452e+02   1.84606489e+02\n",
      "   7.43519617e+02   7.60951722e+01]\n",
      "Mean squared error: 2004.57\n",
      "Variance score: 0.59\n"
     ]
    }
   ],
   "source": [
    "#Solve using SK-Learn library\n",
    "# Create linear regression object\n",
    "regr = linear_model.LinearRegression()\n",
    "\n",
    "# Train the model using the training sets\n",
    "regr.fit(X, y)\n",
    "\n",
    "# The coefficients\n",
    "print('Coefficients: \\n', regr.coef_)\n",
    "# The mean squared error\n",
    "print(\"Mean squared error: %.2f\"\n",
    "      % np.mean((regr.predict(X_test) - y_test) ** 2))\n",
    "# Explained variance score: 1 is perfect prediction\n",
    "print('Variance score: %.2f' % regr.score(X_test, y_test))\n",
    "\n",
    "# Plot outputs\n",
    "#plt.scatter(X_test, y_test,  color='black')\n",
    "#plt.scatter(X, y,  color='red')\n",
    "#plt.plot(X_test, regr.predict(X_test), color='blue',\n",
    "#         linewidth=3)\n",
    "#plt.xticks(())\n",
    "#plt.yticks(())\n",
    "#plt.show()"
   ]
  },
  {
   "cell_type": "code",
   "execution_count": 86,
   "metadata": {},
   "outputs": [
    {
     "data": {
      "image/png": "[encoded data removed]",
      "text/plain": [
       "<matplotlib.figure.Figure at 0xeb1f710>"
      ]
     },
     "metadata": {},
     "output_type": "display_data"
    },
    {
     "name": "stdout",
     "output_type": "stream",
     "text": [
      "Theta calculated by tensorflow regression  [[ 153.16256714]] [[  49.67566681]\n",
      " [ -22.35087204]\n",
      " [ 222.85746765]\n",
      " [ 158.22416687]\n",
      " [  40.54036713]\n",
      " [  20.52059746]\n",
      " [-132.00691223]\n",
      " [ 126.51502991]\n",
      " [ 200.47679138]\n",
      " [ 120.73849487]]\n",
      "Mean squared error: 6632.51509775\n"
     ]
    }
   ],
   "source": [
    "#Solve using Tensorflow\n",
    "theta_TF,bias_TF=TF_solve(X,y.reshape(-1,1),0.01,8000)\n",
    "print(\"Theta calculated by tensorflow regression \",bias_TF,theta_TF)\n",
    "print(\"Mean squared error:\",np.mean((np.array(X_test).dot(theta_TF)+bias_TF - y_test) ** 2))\n",
    "# Plot outputs\n",
    "#plt.scatter(X_test, y_test,  color='black')\n",
    "#plt.plot(X_test, np.array(X_test).dot(theta_TF)+bias_TF, color='blue',linewidth=3)\n",
    "#plt.xticks(())\n",
    "#plt.yticks(())\n",
    "#plt.show()"
   ]
  },
  {
   "cell_type": "code",
   "execution_count": 87,
   "metadata": {},
   "outputs": [
    {
     "name": "stdout",
     "output_type": "stream",
     "text": [
      "Coefficients using Normal Equations: \n",
      " [  1.52764307e+02   3.03499549e-01  -2.37639315e+02   5.10530605e+02\n",
      "   3.27736980e+02  -8.14131709e+02   4.92814588e+02   1.02848452e+02\n",
      "   1.84606489e+02   7.43519617e+02   7.60951722e+01]\n",
      "Mean squared error: 2004.56760269\n"
     ]
    }
   ],
   "source": [
    "#Solve using Normal Equation\n",
    "X = np.column_stack((np.ones((len(y),1)), X))\n",
    "X_test  = np.column_stack((np.ones((len(y_test),1)), X_test))\n",
    "theta_Normal=normalEqn(X, y)\n",
    "# The coefficients\n",
    "print('Coefficients using Normal Equations: \\n', theta_Normal)\n",
    "# The mean squared error\n",
    "print(\"Mean squared error:\",np.mean((np.array(X_test).dot(theta_Normal) - y_test) ** 2))"
   ]
  },
  {
   "cell_type": "code",
   "execution_count": 88,
   "metadata": {},
   "outputs": [
    {
     "data": {
      "image/png": "[encoded data removed]",
      "text/plain": [
       "<matplotlib.figure.Figure at 0xe4091d0>"
      ]
     },
     "metadata": {},
     "output_type": "display_data"
    },
    {
     "name": "stdout",
     "output_type": "stream",
     "text": [
      "Coefficients using GD: \n",
      " [[ 75.28120739]\n",
      " [ 75.28120739]\n",
      " [  1.41566321]\n",
      " [  0.24830061]\n",
      " [  4.25853817]\n",
      " [  3.21468106]\n",
      " [  1.52741599]\n",
      " [  1.23715368]\n",
      " [ -2.85742329]\n",
      " [  3.16247818]\n",
      " [  4.12083866]\n",
      " [  2.77252797]]\n",
      "Mean squared error: 5422.0671162\n"
     ]
    }
   ],
   "source": [
    "#Solve using Gradient Descent\n",
    "X = np.column_stack((np.ones((len(y),1)), X))\n",
    "X_test  = np.column_stack((np.ones((len(y_test),1)), X_test))\n",
    "theta_GD=SolveGradientDescent(X=X,y=y,alpha=0.001,num_iters=2000)\n",
    "# The coefficients\n",
    "print('Coefficients using GD: \\n', theta_GD)\n",
    "# The mean squared error\n",
    "print(\"Mean squared error:\",np.mean((np.array(X_test).dot(theta_GD) - y_test) ** 2))"
   ]
  }
 ],
 "metadata": {
  "kernelspec": {
   "display_name": "Python 3",
   "language": "python",
   "name": "python3"
  },
  "language_info": {
   "codemirror_mode": {
    "name": "ipython",
    "version": 3
   },
   "file_extension": ".py",
   "mimetype": "text/x-python",
   "name": "python",
   "nbconvert_exporter": "python",
   "pygments_lexer": "ipython3",
   "version": "3.5.3"
  }
 },
 "nbformat": 4,
 "nbformat_minor": 2
}
