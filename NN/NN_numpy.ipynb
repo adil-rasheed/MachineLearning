{
 "cells": [
  {
   "cell_type": "markdown",
   "metadata": {},
   "source": [
    "Import all the required packages"
   ]
  },
  {
   "cell_type": "code",
   "execution_count": 1,
   "metadata": {
    "collapsed": true
   },
   "outputs": [],
   "source": [
    "import numpy as np\n",
    "import math\n",
    "import matplotlib.pyplot as plt\n",
    "import scipy.io\n",
    "from scipy.special import expit\n",
    "from scipy.optimize import minimize\n",
    "from decimal import Decimal"
   ]
  },
  {
   "cell_type": "code",
   "execution_count": 2,
   "metadata": {
    "collapsed": true
   },
   "outputs": [],
   "source": [
    "#Computes the sigmoid function\n",
    "def sigmoid(z):\n",
    "    g = 1.0 / (1.0 + np.exp(-z))\n",
    "    return g"
   ]
  },
  {
   "cell_type": "code",
   "execution_count": 3,
   "metadata": {
    "collapsed": true
   },
   "outputs": [],
   "source": [
    "#Compute the gradient of the sigmoid function\n",
    "def GradientSigmoid(z):\n",
    "    g = sigmoid(z)\n",
    "    g = g*(1-g)\n",
    "    return g"
   ]
  },
  {
   "cell_type": "code",
   "execution_count": 4,
   "metadata": {
    "collapsed": true
   },
   "outputs": [],
   "source": [
    "def displayData(X, example_width=None):\n",
    "    m,n = X.shape\n",
    "    plt.figure()\n",
    "    if X.ndim == 1:\n",
    "        X = np.reshape(X, (-1,m))\n",
    "    if not example_width or not 'example_width' in locals():\n",
    "        example_width = int(round(math.sqrt(X.shape[1])))\n",
    "    plt.set_cmap(\"gray\")\n",
    "    example_height = n / example_width\n",
    "    display_rows = int(math.floor(math.sqrt(m)))\n",
    "    display_cols = int(math.ceil(m / display_rows))\n",
    "    pad = 1\n",
    "    display_array = -np.ones((pad + display_rows * int(example_height + pad),  pad + display_cols * int(example_width + pad)))\n",
    "    curr_ex = 1\n",
    "    for j in range(1,display_rows+1):\n",
    "        for i in range (1,display_cols+1):\n",
    "            if curr_ex > m:\n",
    "                break\n",
    "            max_val = max(abs(X[curr_ex-1, :]))\n",
    "            rows = pad + (j - 1) * (int(example_height) + pad) + np.array(range(int(example_height)))\n",
    "            cols = pad + (i - 1) * (int(example_width)  + pad) + np.array(range(int(example_width)))\n",
    "            display_array[rows[0]:rows[-1]+1 , cols[0]:cols[-1]+1] = np.reshape(X[curr_ex-1, :], (int(example_height), int(example_width)), order=\"F\") / max_val\n",
    "            curr_ex += 1\n",
    "            if curr_ex > m:\n",
    "                break\n",
    "    h = plt.imshow(display_array, vmin=-1, vmax=1)\n",
    "    plt.axis('off')\n",
    "    plt.show(block=False)\n",
    "    return h, display_array"
   ]
  },
  {
   "cell_type": "markdown",
   "metadata": {},
   "source": [
    "Regularized cost function for a multilayer neural network\n",
    "\n",
    "$$a^{(1)}=x$$ \n",
    "(Add $a_{0}^{(1)}$)\n",
    "$$z^{(2)}=\\Theta^{(1)}a^{(1)}$$\n",
    "$$a^{(2)}= g(z^{(2)})$$\n",
    "(Add $a_{0}^{(2)}$)\n",
    "$$z^{(3)}=\\Theta^{(2)}a^{(2)}$$\n",
    "$$a^{(3)}= g(z^{(3)})=h_{\\theta}(x)$$\n",
    "$$J(\\theta)=\\frac{1}{m}\\sum_{i=1}^{m}\\sum_{k=1}^{K}[ -y_{k}^{(i)}log((h_{\\theta}(x^{(i)}))_{k})-(1-y_{k}^{(i)})log(1-((h_{\\theta}(x^{(i)}))_{k})]+\\frac{\\lambda}{2m}[\\sum_{j=1}^{25}\\sum_{k=1}^{400}(\\Theta_{j,k}^{(1)})^{2}+\\sum_{j=1}^{10}\\sum_{k=1}^{25}(\\Theta_{j,k}^{(2)})^{2}]$$"
   ]
  },
  {
   "cell_type": "code",
   "execution_count": 5,
   "metadata": {
    "collapsed": true
   },
   "outputs": [],
   "source": [
    "# Need to debug this relatively compactor version of the Cost Function\n",
    "def nnCostFunction2(nn_params, input_layer_size, hidden_layer_size,num_labels, X, y, lambda_reg):\n",
    "    Theta1 = np.reshape(nn_params[:hidden_layer_size * (input_layer_size + 1)], \\\n",
    "                     (hidden_layer_size, input_layer_size + 1), order='F')\n",
    "\n",
    "    Theta2 = np.reshape(nn_params[hidden_layer_size * (input_layer_size + 1):], \\\n",
    "                     (num_labels, hidden_layer_size + 1), order='F')\n",
    "    m = len(X)\n",
    "    Y = np.zeros((num_labels,len(y)))\n",
    "    for i in range(len(y)):\n",
    "        Y[y[i]-1,i]=1  \n",
    "    J = 0;\n",
    "    mk = num_labels*len(y)\n",
    "    Theta1_grad = np.zeros( Theta1.shape )\n",
    "    Theta2_grad = np.zeros( Theta2.shape )\n",
    "        \n",
    "    a1 = np.column_stack((np.ones((m,1)), X)) # = a1\n",
    "    z2 = np.dot(a1,Theta1.T)\n",
    "    a2 = sigmoid(z2)\n",
    "    a2 = np.column_stack((np.ones((a2.shape[0],1)), a2))\n",
    "    z3 = np.dot(a2,Theta2.T)\n",
    "    a3 = sigmoid(z3)\n",
    "    h_theta = a3    \n",
    "    YY = Y.reshape(mk,1)\n",
    "    gg = (h_theta.T).reshape(mk,1)\n",
    "    J = 1/m*((-np.dot(YY.T,np.log(gg)))-np.dot((1-YY.T),np.log(1-gg)))\n",
    "    J = J+ 0.5*lambda_reg/m*(np.sum(np.square(Theta1[:,1:]))+np.sum(np.square(Theta2[:,1:])))\n",
    "    \n",
    "    yyk = np.arange(num_labels)\n",
    "    yk = np.dot(np.ones((m,1)),yyk.reshape(1,-1)).astype(int)\n",
    "    sigma3 = a3-(np.equal(yk,y.reshape(-1,1)))\n",
    "    z2=np.column_stack((np.ones((m,1)),z2))\n",
    "    sigma2 = np.dot(sigma3,Theta2)*GradientSigmoid(z2)\n",
    "    sigma2 = np.delete(sigma2,0,axis=1)\n",
    "    delta1 = np.dot(sigma2.T,a1)\n",
    "    delta2 = np.dot(sigma3.T,a2)\n",
    "    Theta1_grad = 1/m*delta1\n",
    "    Theta2_grad = 1/m*delta2;\n",
    "    Theta1_grad_unregularized = np.copy(Theta1_grad)\n",
    "    Theta2_grad_unregularized = np.copy(Theta2_grad)\n",
    "    Theta1_grad += (float(lambda_reg)/m)*Theta1\n",
    "    Theta2_grad += (float(lambda_reg)/m)*Theta2\n",
    "    Theta1_grad[:,0] = Theta1_grad_unregularized[:,0]\n",
    "    Theta2_grad[:,0] = Theta2_grad_unregularized[:,0]\n",
    "    grad = np.concatenate((Theta1_grad.reshape(Theta1_grad.size, order='F'), Theta2_grad.reshape(Theta2_grad.size, order='F')))\n",
    "    return J, grad"
   ]
  },
  {
   "cell_type": "code",
   "execution_count": 6,
   "metadata": {
    "collapsed": true
   },
   "outputs": [],
   "source": [
    "def nnCostFunction(nn_params, input_layer_size, hidden_layer_size,num_labels, X, y, lambda_reg):\n",
    "    Theta1 = np.reshape(nn_params[:hidden_layer_size * (input_layer_size + 1)], \\\n",
    "                     (hidden_layer_size, input_layer_size + 1), order='F')\n",
    "\n",
    "    Theta2 = np.reshape(nn_params[hidden_layer_size * (input_layer_size + 1):], \\\n",
    "                     (num_labels, hidden_layer_size + 1), order='F')\n",
    "    m = len(X)\n",
    "    J = 0;\n",
    "    Theta1_grad = np.zeros( Theta1.shape )\n",
    "    Theta2_grad = np.zeros( Theta2.shape )\n",
    "    X = np.column_stack((np.ones((m,1)), X)) # = a1\n",
    "    a2 = sigmoid( np.dot(X,Theta1.T) )\n",
    "    a2 = np.column_stack((np.ones((a2.shape[0],1)), a2))\n",
    "    a3 = sigmoid( np.dot(a2,Theta2.T) )\n",
    "\n",
    "    labels = y\n",
    "    y = np.zeros((m,num_labels))\n",
    "    for i in range(m):\n",
    "        y[i, labels[i]-1] = 1\n",
    "    \n",
    "    cost = 0\n",
    "    for i in range(m):\n",
    "        cost += np.sum( y[i] * np.log( a3[i] ) + (1 - y[i]) * np.log( 1 - a3[i] ) )\n",
    "    J = -(1.0/m)*cost\n",
    "    sumOfTheta1 = np.sum(np.sum(Theta1[:,1:]**2))\n",
    "    sumOfTheta2 = np.sum(np.sum(Theta2[:,1:]**2))\n",
    "    J = J + ( (lambda_reg/(2.0*m))*(sumOfTheta1+sumOfTheta2) )\n",
    "    bigDelta1 = 0\n",
    "    bigDelta2 = 0\n",
    "    for t in range(m):\n",
    "        x = X[t]\n",
    "        a2 = sigmoid( np.dot(x,Theta1.T))\n",
    "        a2 = np.concatenate((np.array([1]), a2))\n",
    "        a3 = sigmoid( np.dot(a2,Theta2.T) )\n",
    "        delta3 = np.zeros((num_labels))\n",
    "        for k in range(num_labels):\n",
    "            y_k = y[t, k]\n",
    "            delta3[k] = a3[k] - y_k\n",
    "        delta2 = (np.dot(Theta2[:,1:].T, delta3).T) * GradientSigmoid( np.dot(x, Theta1.T) )\n",
    "        bigDelta1 += np.outer(delta2, x)\n",
    "        bigDelta2 += np.outer(delta3, a2)\n",
    "    Theta1_grad = bigDelta1 / m\n",
    "    Theta2_grad = bigDelta2 / m\n",
    "    Theta1_grad_unregularized = np.copy(Theta1_grad)\n",
    "    Theta2_grad_unregularized = np.copy(Theta2_grad)\n",
    "    Theta1_grad += (float(lambda_reg)/m)*Theta1\n",
    "    Theta2_grad += (float(lambda_reg)/m)*Theta2\n",
    "    Theta1_grad[:,0] = Theta1_grad_unregularized[:,0]\n",
    "    Theta2_grad[:,0] = Theta2_grad_unregularized[:,0]\n",
    "    grad = np.concatenate((Theta1_grad.reshape(Theta1_grad.size, order='F'), Theta2_grad.reshape(Theta2_grad.size, order='F')))\n",
    "    return J, grad"
   ]
  },
  {
   "cell_type": "code",
   "execution_count": 7,
   "metadata": {
    "collapsed": true
   },
   "outputs": [],
   "source": [
    "def randInitializeWeights(L_in, L_out):\n",
    "    W = np.zeros((L_out, 1 + L_in))\n",
    "    epsilon_init = 0.12\n",
    "    W = np.random.rand(L_out, 1 + L_in)*(2*epsilon_init) - epsilon_init\n",
    "    return W"
   ]
  },
  {
   "cell_type": "code",
   "execution_count": 8,
   "metadata": {
    "collapsed": true
   },
   "outputs": [],
   "source": [
    "def checkNNGradients(lambda_reg=0):\n",
    "    input_layer_size = 3\n",
    "    hidden_layer_size = 5\n",
    "    num_labels = 3\n",
    "    m = 5\n",
    "    Theta1 = debugInitializeWeights(hidden_layer_size, input_layer_size)\n",
    "    Theta2 = debugInitializeWeights(num_labels, hidden_layer_size)\n",
    "    # Reusing debugInitializeWeights to generate X\n",
    "    X  = debugInitializeWeights(m, input_layer_size - 1)\n",
    "    y  = 1 + np.mod(range(m), num_labels).T\n",
    "    nn_params = np.concatenate((Theta1.reshape(Theta1.size, order='F'), Theta2.reshape(Theta2.size, order='F')))\n",
    "    def costFunc(p):\n",
    "        return nnCostFunction(p, input_layer_size, hidden_layer_size, \\\n",
    "                   num_labels, X, y, lambda_reg)\n",
    "\n",
    "    _, grad = costFunc(nn_params)\n",
    "    numgrad = computeNumericalGradient(costFunc, nn_params)\n",
    "    fmt = '{:<25}{}'\n",
    "    print(fmt.format('Numerical Gradient', 'Analytical Gradient'))\n",
    "    for numerical, analytical in zip(numgrad, grad):\n",
    "        print(fmt.format(numerical, analytical))\n",
    "\n",
    "    print('The above two columns you get should be very similar.\\n' \\\n",
    "             '(Left Col.: Your Numerical Gradient, Right Col.: Analytical Gradient)')\n",
    "    diff = Decimal(np.linalg.norm(numgrad-grad))/Decimal(np.linalg.norm(numgrad+grad))\n",
    "    print('If your backpropagation implementation is correct, then \\n' \\\n",
    "             'the relative difference will be small (less than 1e-9). \\n' \\\n",
    "             '\\nRelative Difference: {:.10E}'.format(diff))"
   ]
  },
  {
   "cell_type": "code",
   "execution_count": 9,
   "metadata": {
    "collapsed": true
   },
   "outputs": [],
   "source": [
    "def debugInitializeWeights(fan_out, fan_in):\n",
    "    W = np.zeros((fan_out, 1 + fan_in))\n",
    "    W = np.reshape(np.sin(range(W.size)), W.shape) / 10\n",
    "    return W"
   ]
  },
  {
   "cell_type": "code",
   "execution_count": 10,
   "metadata": {
    "collapsed": true
   },
   "outputs": [],
   "source": [
    "def computeNumericalGradient(J, theta):\n",
    "    numgrad = np.zeros( theta.shape )\n",
    "    perturb = np.zeros( theta.shape )\n",
    "    e = 1e-4\n",
    "    for p in range(theta.size):\n",
    "        perturb.reshape(perturb.size, order=\"F\")[p] = e\n",
    "        loss1, _ = J(theta - perturb)\n",
    "        loss2, _ = J(theta + perturb)\n",
    "        numgrad.reshape(numgrad.size, order=\"F\")[p] = (loss2 - loss1) / (2*e)\n",
    "        perturb.reshape(perturb.size, order=\"F\")[p] = 0\n",
    "    return numgrad"
   ]
  },
  {
   "cell_type": "code",
   "execution_count": 11,
   "metadata": {
    "collapsed": true
   },
   "outputs": [],
   "source": [
    "def predict(Theta1, Theta2, X):\n",
    "    if X.ndim == 1:\n",
    "        X = np.reshape(X, (-1,X.shape[0]))\n",
    "    m = X.shape[0]\n",
    "    p = np.zeros((m,1))\n",
    "    X = np.column_stack((np.ones((m,1)), X))\n",
    "    a2 = sigmoid( np.dot(X,Theta1.T) )\n",
    "    a2 = np.column_stack((np.ones((a2.shape[0],1)), a2))\n",
    "    a3 = sigmoid( np.dot(a2,Theta2.T) )\n",
    "    p = np.argmax(a3, axis=1)\n",
    "    return p + 1"
   ]
  },
  {
   "cell_type": "markdown",
   "metadata": {},
   "source": [
    "Input parameters for the neural netowork"
   ]
  },
  {
   "cell_type": "code",
   "execution_count": 12,
   "metadata": {
    "collapsed": true
   },
   "outputs": [],
   "source": [
    "input_layer_size  = 400  # 20x20 Input Images of Digits\n",
    "hidden_layer_size = 25   # 25 hidden units\n",
    "num_labels = 10"
   ]
  },
  {
   "cell_type": "markdown",
   "metadata": {},
   "source": [
    "Load all the images and labels"
   ]
  },
  {
   "cell_type": "code",
   "execution_count": 13,
   "metadata": {},
   "outputs": [
    {
     "data": {
      "image/png": "[encoded data removed]",
      "text/plain": [
       "<matplotlib.figure.Figure at 0x1f05bd0fbe0>"
      ]
     },
     "metadata": {},
     "output_type": "display_data"
    }
   ],
   "source": [
    "data = scipy.io.loadmat('../1vsAllLogisticRegression/hand_written_numbers.mat')\n",
    "X=data[\"X\"]\n",
    "y=data[\"y\"]\n",
    "m,n=X.shape\n",
    "y=y.flatten()\n",
    "rand_indices = np.random.permutation(m)\n",
    "random_images = X[rand_indices[:100],:]\n",
    "displayData(random_images);"
   ]
  },
  {
   "cell_type": "code",
   "execution_count": null,
   "metadata": {
    "scrolled": false
   },
   "outputs": [
    {
     "name": "stdout",
     "output_type": "stream",
     "text": [
      "Feedforward Using Neural Network ...\n",
      "Checking Cost Function (w/ Regularization)...\n",
      "Cost at parameters (loaded from ex4weights): (this value should be about 0.383770) 0.383769859091\n",
      "Training Set Accuracy: 97.520000\n",
      "Initializing Neural Network Parameters...\n",
      "Checking Backpropagation... \n",
      "Numerical Gradient       Analytical Gradient\n",
      "0.006906540832574137     0.006906540840162156\n",
      "0.012125104260629627     0.01212510426975958\n",
      "0.006198479014507541     0.006198479017045423\n",
      "-0.005423556832528931    -0.005423556834022437\n",
      "-0.012076102853253445    -0.012076102864730183\n",
      "-0.00011085270923416601  -0.0001108527097186414\n",
      "-4.2982200021413064e-05  -4.298220175600264e-05\n",
      "6.418726883339332e-05    6.418726575059826e-05\n",
      "0.00011254971621355025   0.00011254971783297649\n",
      "5.7200055803008354e-05   5.720005709677369e-05\n",
      "0.00014385183710885485   0.00014385183416399327\n",
      "0.00015166618849704605   0.00015166618726006892\n",
      "2.030122292495662e-05    2.0301223463596478e-05\n",
      "-0.0001300184759855938   -0.00013001847547908297\n",
      "-0.00016050035522852113  -0.00016050035608194347\n",
      "0.00026629966454194687   0.000266299665122975\n",
      "0.00020687338064817595   0.00020687338315369128\n",
      "-4.224967042887329e-05   -4.224967005194711e-05\n",
      "-0.0002530482823281943   -0.0002530482820465939\n",
      "-0.0002306374824456725   -0.0002306374820642368\n",
      "0.10228635313636047      0.10228635313659236\n",
      "0.09959317229579767      0.09959317229744831\n",
      "0.29693242150630184      0.2969324215032644\n",
      "0.05095949101363573      0.05095949101371862\n",
      "0.05023167274131879      0.0502316727387593\n",
      "0.14833251474444253      0.14833251474634673\n",
      "0.04965062035289236      0.049650620350948374\n",
      "0.04783872826541469      0.04783872826659547\n",
      "0.14265564152404764      0.14265564152122812\n",
      "0.05327727000015159      0.053277270002529784\n",
      "0.05192099963080565      0.05192099963201959\n",
      "0.15619265977040442      0.15619265977114108\n",
      "0.04984489142323412      0.04984489142381859\n",
      "0.04897654030333598      0.04897654030403556\n",
      "0.1441709005423064       0.1441709005446528\n",
      "0.050705472320888845     0.050705472320346966\n",
      "0.04874303447977013      0.048743034478033964\n",
      "0.1463495338693832       0.14634953386687383\n",
      "The above two columns you get should be very similar.\n",
      "(Left Col.: Your Numerical Gradient, Right Col.: Analytical Gradient)\n",
      "If your backpropagation implementation is correct, then \n",
      "the relative difference will be small (less than 1e-9). \n",
      "\n",
      "Relative Difference: 1.9655399665E-11\n",
      "Numerical Gradient       Analytical Gradient\n",
      "0.006906540832574137     0.006906540840162156\n",
      "0.012125104260629627     0.01212510426975958\n",
      "0.006198479014507541     0.006198479017045423\n",
      "-0.005423556832528931    -0.005423556834022437\n",
      "-0.012076102853253445    -0.012076102864730183\n",
      "0.05037740637980903      0.050377406378755145\n",
      "-0.057578438679151134    -0.05757843868154431\n",
      "0.024791296384663042     0.02479129638025599\n",
      "0.025322571926000847     0.025322571927431432\n",
      "-0.05762664945674345     -0.05762664945567663\n",
      "0.05470169744725695      0.0547016974437049\n",
      "-0.01661326370472338     -0.01661326370467548\n",
      "-0.03262096543110715     -0.03262096542989859\n",
      "0.059306422866001185     0.05930642286621314\n",
      "-0.04521973516080635     -0.045219735162382514\n",
      "0.008733500147517503     0.008733500148715007\n",
      "0.039626069303633216     0.039626069306281035\n",
      "-0.06004166206441397     -0.06004166206309416\n",
      "0.038764222127785075     0.03876422212738042\n",
      "0.008761995098360842     0.008761995097712904\n",
      "0.10228635313636047      0.10228635313659236\n",
      "0.09959317229579767      0.09959317229744831\n",
      "0.29693242150630184      0.2969324215032644\n",
      "0.10144775010267892      0.1014477501021924\n",
      "0.08965086866430383      0.08965086866188665\n",
      "0.17354253695422983      0.17354253695594518\n",
      "0.10420846596304045      0.10420846596048927\n",
      "0.10720022306287547      0.10720022306399837\n",
      "0.20209208286603442      0.20209208286292035\n",
      "0.061744470483127145     0.06174447048612182\n",
      "0.0766481087466353       0.07664810874652499\n",
      "0.1952099301805177       0.1952099301805681\n",
      "0.004436741702917857     0.004436741705342896\n",
      "0.016335273649303872     0.016335273650673374\n",
      "0.12689670154220067      0.12689670154474889\n",
      "-0.006829984158240876    -0.006829984159441339\n",
      "-0.011256377914214966    -0.011256377915008248\n",
      "0.08866568435683675      0.08866568435410042\n",
      "The above two columns you get should be very similar.\n",
      "(Left Col.: Your Numerical Gradient, Right Col.: Analytical Gradient)\n",
      "If your backpropagation implementation is correct, then \n",
      "the relative difference will be small (less than 1e-9). \n",
      "\n",
      "Relative Difference: 1.7885628013E-11\n",
      "\n",
      "\n",
      "Cost at (fixed) debugging parameters (w/ lambda_reg = 3): 0.576051 \n",
      "(this value should be about 0.576051)\n",
      "\n",
      "\n",
      "Training Neural Network...\n",
      "\n",
      "Visualizing Neural Network... \n",
      "\n"
     ]
    },
    {
     "data": {
      "image/png": "[encoded data removed]",
      "text/plain": [
       "<matplotlib.figure.Figure at 0x1f05bf8d668>"
      ]
     },
     "metadata": {},
     "output_type": "display_data"
    },
    {
     "name": "stdout",
     "output_type": "stream",
     "text": [
      "y   pred\n",
      "1   2\n",
      "2   1\n",
      "3   2\n",
      "3   8\n",
      "3   7\n",
      "4   9\n",
      "4   9\n",
      "5   0\n",
      "7   4\n",
      "7   8\n",
      "9   4\n",
      "9   7\n",
      "Training Set Accuracy: 99.760000\n",
      "Displaying Example Image\n"
     ]
    },
    {
     "data": {
      "image/png": "[encoded data removed]",
      "text/plain": [
       "<matplotlib.figure.Figure at 0x1f05d5c1b00>"
      ]
     },
     "metadata": {},
     "output_type": "display_data"
    },
    {
     "name": "stdout",
     "output_type": "stream",
     "text": [
      "Neural Network Prediction: 4 (digit 4)\n",
      "Program paused. Press enter to continue.\n",
      "\n",
      "Displaying Example Image\n"
     ]
    },
    {
     "data": {
      "image/png": "[encoded data removed]",
      "text/plain": [
       "<matplotlib.figure.Figure at 0x1f05d65da58>"
      ]
     },
     "metadata": {},
     "output_type": "display_data"
    },
    {
     "name": "stdout",
     "output_type": "stream",
     "text": [
      "Neural Network Prediction: 5 (digit 5)\n",
      "Program paused. Press enter to continue.\n",
      "\n",
      "Displaying Example Image\n"
     ]
    },
    {
     "data": {
      "image/png": "[encoded data removed]",
      "text/plain": [
       "<matplotlib.figure.Figure at 0x1f05be9acf8>"
      ]
     },
     "metadata": {},
     "output_type": "display_data"
    },
    {
     "name": "stdout",
     "output_type": "stream",
     "text": [
      "Neural Network Prediction: 4 (digit 4)\n"
     ]
    }
   ],
   "source": [
    "mat = scipy.io.loadmat('ex3weights.mat')\n",
    "Theta1 = mat[\"Theta1\"]\n",
    "Theta2 = mat[\"Theta2\"]\n",
    "\n",
    "nn_params = np.concatenate((Theta1.reshape(Theta1.size, order='F'), Theta2.reshape(Theta2.size, order='F')))#\n",
    "print('Feedforward Using Neural Network ...')\n",
    "lambda_reg = 1\n",
    "\n",
    "#J, _ = nnCostFunction(nn_params, input_layer_size, hidden_layer_size,num_labels, X, y, lambda_reg)\n",
    "#print('Training Set Accuracy:(this value should be about 0.287629)',J)\n",
    "print('Checking Cost Function (w/ Regularization)...')\n",
    "#lambda_reg = 1\n",
    "J, _ = nnCostFunction(nn_params, input_layer_size, hidden_layer_size,num_labels, X, y, lambda_reg)\n",
    "print('Cost at parameters (loaded from ex4weights): (this value should be about 0.383770)',J)\n",
    "\n",
    "pred = predict(Theta1, Theta2, X)\n",
    "print('Training Set Accuracy: {:f}'.format((np.mean(pred == y)*100)))\n",
    "rp = np.random.permutation(m)\n",
    "\n",
    "print('Initializing Neural Network Parameters...')\n",
    "initial_Theta1 = randInitializeWeights(input_layer_size, hidden_layer_size)\n",
    "initial_Theta2 = randInitializeWeights(hidden_layer_size, num_labels)\n",
    "initial_nn_params = np.concatenate((initial_Theta1.reshape(initial_Theta1.size, order='F'), initial_Theta2.reshape(initial_Theta2.size, order='F')))\n",
    "\n",
    "print('Checking Backpropagation... ')\n",
    "checkNNGradients()\n",
    "\n",
    "#print('\\nChecking Backpropagation (w/ Regularization) ... \\n')\n",
    "lambda_reg = 3\n",
    "checkNNGradients(lambda_reg)\n",
    "debug_J, _  = nnCostFunction(nn_params, input_layer_size, \\\n",
    "                         hidden_layer_size, num_labels, X, y, lambda_reg)\n",
    "\n",
    "print('\\n\\nCost at (fixed) debugging parameters (w/ lambda_reg = 3): {:f} ' \\\n",
    "         '\\n(this value should be about 0.576051)\\n\\n'.format(debug_J))\n",
    "\n",
    "print('Training Neural Network...')\n",
    "maxiter = 20\n",
    "lambda_reg = 0.1\n",
    "myargs = (input_layer_size, hidden_layer_size, num_labels, X, y, lambda_reg)\n",
    "results = minimize(nnCostFunction, x0=nn_params, args=myargs, options={'disp': True, 'maxiter':maxiter}, method=\"L-BFGS-B\", jac=True)\n",
    "\n",
    "nn_params = results[\"x\"]\n",
    "\n",
    "Theta1 = np.reshape(nn_params[:hidden_layer_size * (input_layer_size + 1)], \\\n",
    "                 (hidden_layer_size, input_layer_size + 1), order='F')\n",
    "\n",
    "Theta2 = np.reshape(nn_params[hidden_layer_size * (input_layer_size + 1):], \\\n",
    "                 (num_labels, hidden_layer_size + 1), order='F')\n",
    "\n",
    "print('\\nVisualizing Neural Network... \\n')\n",
    "\n",
    "displayData(Theta1[:, 1:])\n",
    "\n",
    "pred = predict(Theta1, Theta2, X)\n",
    "\n",
    "# uncomment code below to see the predictions that don't match\n",
    "fmt = '{}   {}'\n",
    "print(fmt.format('y', 'pred'))\n",
    "for y_elem, pred_elem in zip(y, pred):\n",
    "    if y_elem != pred_elem:\n",
    "        print(fmt.format(y_elem%10, pred_elem%10))\n",
    "\n",
    "print('Training Set Accuracy: {:f}'.format( ( np.mean(pred == y)*100 ) ) )\n",
    "\n",
    "\n",
    "\n",
    "\n",
    "for i in range(m):\n",
    "    print('Displaying Example Image')\n",
    "    displayData(X[rp[i], :].reshape(1,-1))\n",
    "    pred = predict(Theta1, Theta2, X[rp[i], :])\n",
    "    print('Neural Network Prediction: {:d} (digit {:d})'.format(pred[0], (pred%10)[0]))\n",
    "    input('Program paused. Press enter to continue.\\n')\n"
   ]
  },
  {
   "cell_type": "code",
   "execution_count": null,
   "metadata": {
    "collapsed": true
   },
   "outputs": [],
   "source": []
  }
 ],
 "metadata": {
  "kernelspec": {
   "display_name": "Python 3",
   "language": "python",
   "name": "python3"
  },
  "language_info": {
   "codemirror_mode": {
    "name": "ipython",
    "version": 3
   },
   "file_extension": ".py",
   "mimetype": "text/x-python",
   "name": "python",
   "nbconvert_exporter": "python",
   "pygments_lexer": "ipython3",
   "version": "3.6.1"
  }
 },
 "nbformat": 4,
 "nbformat_minor": 2
}
